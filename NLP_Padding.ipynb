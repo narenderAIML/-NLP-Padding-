{
  "nbformat": 4,
  "nbformat_minor": 0,
  "metadata": {
    "colab": {
      "name": "Untitled5.ipynb",
      "provenance": []
    },
    "kernelspec": {
      "name": "python3",
      "display_name": "Python 3"
    },
    "language_info": {
      "name": "python"
    }
  },
  "cells": [
    {
      "cell_type": "code",
      "metadata": {
        "id": "NNaMY8NV9_gb"
      },
      "source": [
        "#Step 1 - Take Sample text\n",
        "Detail1 = ['Jon', '26', 'Canada']\n",
        "Detail2 = ['Heena', '24', 'India']\n",
        "Detail3 = ['Shawn', '27', 'California']"
      ],
      "execution_count": 2,
      "outputs": []
    },
    {
      "cell_type": "code",
      "metadata": {
        "colab": {
          "base_uri": "https://localhost:8080/"
        },
        "id": "_bv_8dP5-JKr",
        "outputId": "a2f19f85-8fca-4433-ddb4-294a580e279f"
      },
      "source": [
        "# Step 2 - Apply left padding\n",
        "for Details in [Detail1,Detail2,Detail3]:\n",
        "    for entry in Details:\n",
        "        print(entry.ljust(25), end='')\n",
        "    print()"
      ],
      "execution_count": 4,
      "outputs": [
        {
          "output_type": "stream",
          "text": [
            "Jon                      26                       Canada                   \n",
            "Heena                    24                       India                    \n",
            "Shawn                    27                       California               \n"
          ],
          "name": "stdout"
        }
      ]
    },
    {
      "cell_type": "code",
      "metadata": {
        "colab": {
          "base_uri": "https://localhost:8080/"
        },
        "id": "BBWssJi7-NVI",
        "outputId": "fd7f3393-3855-4925-ec8e-16e22c24c9ff"
      },
      "source": [
        "# Step 3 - Center Padding\n",
        "Sample_text = [\"Jon playes cricket\", \"His favourite player is MS Dhoni\",\"Sometimes he loves to play football\"]\n",
        "for text in Sample_text: \n",
        "  print(text.center(50, ' '))"
      ],
      "execution_count": 6,
      "outputs": [
        {
          "output_type": "stream",
          "text": [
            "                Jon playes cricket                \n",
            "         His favourite player is MS Dhoni         \n",
            "       Sometimes he loves to play football        \n"
          ],
          "name": "stdout"
        }
      ]
    },
    {
      "cell_type": "code",
      "metadata": {
        "colab": {
          "base_uri": "https://localhost:8080/"
        },
        "id": "TfbLgfDU-Z0v",
        "outputId": "7edc7f60-b774-44c7-a976-875580ac4014"
      },
      "source": [
        "# Step 3 - Center Padding\n",
        "Sample_text = [\"Jon playes cricket\", \"His favourite player is MS Dhoni\",\"Sometimes he loves to play football\"]\n",
        "for text in Sample_text: \n",
        "  print(text.center(50, ' '))"
      ],
      "execution_count": 9,
      "outputs": [
        {
          "output_type": "stream",
          "text": [
            "                Jon playes cricket                \n",
            "         His favourite player is MS Dhoni         \n",
            "       Sometimes he loves to play football        \n"
          ],
          "name": "stdout"
        }
      ]
    },
    {
      "cell_type": "code",
      "metadata": {
        "colab": {
          "base_uri": "https://localhost:8080/"
        },
        "id": "imiEmuzk-dtH",
        "outputId": "8146aac0-8269-4982-9ffe-fc6aecf94f57"
      },
      "source": [
        "# Step 4 - Right Padding\n",
        "for ele in [Detail1, Detail2, Detail3]: \n",
        "  for entry in ele: \n",
        "    print(entry.rjust(30), end='')\n",
        "  print()"
      ],
      "execution_count": 8,
      "outputs": [
        {
          "output_type": "stream",
          "text": [
            "                           Jon                            26                        Canada\n",
            "                         Heena                            24                         India\n",
            "                         Shawn                            27                    California\n"
          ],
          "name": "stdout"
        }
      ]
    }
  ]
}